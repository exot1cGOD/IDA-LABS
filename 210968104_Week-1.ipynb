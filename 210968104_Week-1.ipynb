{
 "cells": [
  {
   "cell_type": "code",
   "execution_count": 2,
   "id": "fa0b6e09",
   "metadata": {},
   "outputs": [],
   "source": [
    "import pandas as pd"
   ]
  },
  {
   "cell_type": "code",
   "execution_count": 3,
   "id": "64f66e52",
   "metadata": {},
   "outputs": [],
   "source": [
    "data = [[1,'Tom','M',98,93,81],[2,'Harry','M',67,87,91],[3,'Sarah','F',83,78,90],[4,'Anna','F',84,86,56],[5,'Jim','M',71,83,88],[6,'Michael','M',90,91,76],[7,'Rachel','F',88,93,71],[8,'Wayne','M',90,38,73],[9,'Pam','F',99,33,96],[10,'Rajesh','M',97,79,88]]"
   ]
  },
  {
   "cell_type": "code",
   "execution_count": 4,
   "id": "81e27479",
   "metadata": {},
   "outputs": [],
   "source": [
    "df = pd.DataFrame(data,columns=['Roll No.','Name','gender','Marks1','Marks2','Marks3'])"
   ]
  },
  {
   "cell_type": "code",
   "execution_count": 5,
   "id": "27d83631",
   "metadata": {},
   "outputs": [
    {
     "data": {
      "text/html": [
       "<div>\n",
       "<style scoped>\n",
       "    .dataframe tbody tr th:only-of-type {\n",
       "        vertical-align: middle;\n",
       "    }\n",
       "\n",
       "    .dataframe tbody tr th {\n",
       "        vertical-align: top;\n",
       "    }\n",
       "\n",
       "    .dataframe thead th {\n",
       "        text-align: right;\n",
       "    }\n",
       "</style>\n",
       "<table border=\"1\" class=\"dataframe\">\n",
       "  <thead>\n",
       "    <tr style=\"text-align: right;\">\n",
       "      <th></th>\n",
       "      <th>Roll No.</th>\n",
       "      <th>Name</th>\n",
       "      <th>gender</th>\n",
       "      <th>Marks1</th>\n",
       "      <th>Marks2</th>\n",
       "      <th>Marks3</th>\n",
       "    </tr>\n",
       "  </thead>\n",
       "  <tbody>\n",
       "    <tr>\n",
       "      <th>0</th>\n",
       "      <td>1</td>\n",
       "      <td>Tom</td>\n",
       "      <td>M</td>\n",
       "      <td>98</td>\n",
       "      <td>93</td>\n",
       "      <td>81</td>\n",
       "    </tr>\n",
       "    <tr>\n",
       "      <th>1</th>\n",
       "      <td>2</td>\n",
       "      <td>Harry</td>\n",
       "      <td>M</td>\n",
       "      <td>67</td>\n",
       "      <td>87</td>\n",
       "      <td>91</td>\n",
       "    </tr>\n",
       "    <tr>\n",
       "      <th>2</th>\n",
       "      <td>3</td>\n",
       "      <td>Sarah</td>\n",
       "      <td>F</td>\n",
       "      <td>83</td>\n",
       "      <td>78</td>\n",
       "      <td>90</td>\n",
       "    </tr>\n",
       "    <tr>\n",
       "      <th>3</th>\n",
       "      <td>4</td>\n",
       "      <td>Anna</td>\n",
       "      <td>F</td>\n",
       "      <td>84</td>\n",
       "      <td>86</td>\n",
       "      <td>56</td>\n",
       "    </tr>\n",
       "    <tr>\n",
       "      <th>4</th>\n",
       "      <td>5</td>\n",
       "      <td>Jim</td>\n",
       "      <td>M</td>\n",
       "      <td>71</td>\n",
       "      <td>83</td>\n",
       "      <td>88</td>\n",
       "    </tr>\n",
       "    <tr>\n",
       "      <th>5</th>\n",
       "      <td>6</td>\n",
       "      <td>Michael</td>\n",
       "      <td>M</td>\n",
       "      <td>90</td>\n",
       "      <td>91</td>\n",
       "      <td>76</td>\n",
       "    </tr>\n",
       "    <tr>\n",
       "      <th>6</th>\n",
       "      <td>7</td>\n",
       "      <td>Rachel</td>\n",
       "      <td>F</td>\n",
       "      <td>88</td>\n",
       "      <td>93</td>\n",
       "      <td>71</td>\n",
       "    </tr>\n",
       "    <tr>\n",
       "      <th>7</th>\n",
       "      <td>8</td>\n",
       "      <td>Wayne</td>\n",
       "      <td>M</td>\n",
       "      <td>90</td>\n",
       "      <td>38</td>\n",
       "      <td>73</td>\n",
       "    </tr>\n",
       "    <tr>\n",
       "      <th>8</th>\n",
       "      <td>9</td>\n",
       "      <td>Pam</td>\n",
       "      <td>F</td>\n",
       "      <td>99</td>\n",
       "      <td>33</td>\n",
       "      <td>96</td>\n",
       "    </tr>\n",
       "    <tr>\n",
       "      <th>9</th>\n",
       "      <td>10</td>\n",
       "      <td>Rajesh</td>\n",
       "      <td>M</td>\n",
       "      <td>97</td>\n",
       "      <td>79</td>\n",
       "      <td>88</td>\n",
       "    </tr>\n",
       "  </tbody>\n",
       "</table>\n",
       "</div>"
      ],
      "text/plain": [
       "   Roll No.     Name gender  Marks1  Marks2  Marks3\n",
       "0         1      Tom      M      98      93      81\n",
       "1         2    Harry      M      67      87      91\n",
       "2         3    Sarah      F      83      78      90\n",
       "3         4     Anna      F      84      86      56\n",
       "4         5      Jim      M      71      83      88\n",
       "5         6  Michael      M      90      91      76\n",
       "6         7   Rachel      F      88      93      71\n",
       "7         8    Wayne      M      90      38      73\n",
       "8         9      Pam      F      99      33      96\n",
       "9        10   Rajesh      M      97      79      88"
      ]
     },
     "execution_count": 5,
     "metadata": {},
     "output_type": "execute_result"
    }
   ],
   "source": [
    "df"
   ]
  },
  {
   "cell_type": "code",
   "execution_count": 6,
   "id": "07fd623e",
   "metadata": {},
   "outputs": [],
   "source": [
    "dflist=[\"Marks1\",\"Marks2\",\"Marks3\"]\n",
    "df[\"Total Marks\"]= df[dflist].sum(axis=1)"
   ]
  },
  {
   "cell_type": "code",
   "execution_count": 7,
   "id": "0ad537e0",
   "metadata": {},
   "outputs": [
    {
     "data": {
      "text/html": [
       "<div>\n",
       "<style scoped>\n",
       "    .dataframe tbody tr th:only-of-type {\n",
       "        vertical-align: middle;\n",
       "    }\n",
       "\n",
       "    .dataframe tbody tr th {\n",
       "        vertical-align: top;\n",
       "    }\n",
       "\n",
       "    .dataframe thead th {\n",
       "        text-align: right;\n",
       "    }\n",
       "</style>\n",
       "<table border=\"1\" class=\"dataframe\">\n",
       "  <thead>\n",
       "    <tr style=\"text-align: right;\">\n",
       "      <th></th>\n",
       "      <th>Roll No.</th>\n",
       "      <th>Name</th>\n",
       "      <th>gender</th>\n",
       "      <th>Marks1</th>\n",
       "      <th>Marks2</th>\n",
       "      <th>Marks3</th>\n",
       "      <th>Total Marks</th>\n",
       "    </tr>\n",
       "  </thead>\n",
       "  <tbody>\n",
       "    <tr>\n",
       "      <th>0</th>\n",
       "      <td>1</td>\n",
       "      <td>Tom</td>\n",
       "      <td>M</td>\n",
       "      <td>98</td>\n",
       "      <td>93</td>\n",
       "      <td>81</td>\n",
       "      <td>272</td>\n",
       "    </tr>\n",
       "    <tr>\n",
       "      <th>1</th>\n",
       "      <td>2</td>\n",
       "      <td>Harry</td>\n",
       "      <td>M</td>\n",
       "      <td>67</td>\n",
       "      <td>87</td>\n",
       "      <td>91</td>\n",
       "      <td>245</td>\n",
       "    </tr>\n",
       "    <tr>\n",
       "      <th>2</th>\n",
       "      <td>3</td>\n",
       "      <td>Sarah</td>\n",
       "      <td>F</td>\n",
       "      <td>83</td>\n",
       "      <td>78</td>\n",
       "      <td>90</td>\n",
       "      <td>251</td>\n",
       "    </tr>\n",
       "    <tr>\n",
       "      <th>3</th>\n",
       "      <td>4</td>\n",
       "      <td>Anna</td>\n",
       "      <td>F</td>\n",
       "      <td>84</td>\n",
       "      <td>86</td>\n",
       "      <td>56</td>\n",
       "      <td>226</td>\n",
       "    </tr>\n",
       "    <tr>\n",
       "      <th>4</th>\n",
       "      <td>5</td>\n",
       "      <td>Jim</td>\n",
       "      <td>M</td>\n",
       "      <td>71</td>\n",
       "      <td>83</td>\n",
       "      <td>88</td>\n",
       "      <td>242</td>\n",
       "    </tr>\n",
       "    <tr>\n",
       "      <th>5</th>\n",
       "      <td>6</td>\n",
       "      <td>Michael</td>\n",
       "      <td>M</td>\n",
       "      <td>90</td>\n",
       "      <td>91</td>\n",
       "      <td>76</td>\n",
       "      <td>257</td>\n",
       "    </tr>\n",
       "    <tr>\n",
       "      <th>6</th>\n",
       "      <td>7</td>\n",
       "      <td>Rachel</td>\n",
       "      <td>F</td>\n",
       "      <td>88</td>\n",
       "      <td>93</td>\n",
       "      <td>71</td>\n",
       "      <td>252</td>\n",
       "    </tr>\n",
       "    <tr>\n",
       "      <th>7</th>\n",
       "      <td>8</td>\n",
       "      <td>Wayne</td>\n",
       "      <td>M</td>\n",
       "      <td>90</td>\n",
       "      <td>38</td>\n",
       "      <td>73</td>\n",
       "      <td>201</td>\n",
       "    </tr>\n",
       "    <tr>\n",
       "      <th>8</th>\n",
       "      <td>9</td>\n",
       "      <td>Pam</td>\n",
       "      <td>F</td>\n",
       "      <td>99</td>\n",
       "      <td>33</td>\n",
       "      <td>96</td>\n",
       "      <td>228</td>\n",
       "    </tr>\n",
       "    <tr>\n",
       "      <th>9</th>\n",
       "      <td>10</td>\n",
       "      <td>Rajesh</td>\n",
       "      <td>M</td>\n",
       "      <td>97</td>\n",
       "      <td>79</td>\n",
       "      <td>88</td>\n",
       "      <td>264</td>\n",
       "    </tr>\n",
       "  </tbody>\n",
       "</table>\n",
       "</div>"
      ],
      "text/plain": [
       "   Roll No.     Name gender  Marks1  Marks2  Marks3  Total Marks\n",
       "0         1      Tom      M      98      93      81          272\n",
       "1         2    Harry      M      67      87      91          245\n",
       "2         3    Sarah      F      83      78      90          251\n",
       "3         4     Anna      F      84      86      56          226\n",
       "4         5      Jim      M      71      83      88          242\n",
       "5         6  Michael      M      90      91      76          257\n",
       "6         7   Rachel      F      88      93      71          252\n",
       "7         8    Wayne      M      90      38      73          201\n",
       "8         9      Pam      F      99      33      96          228\n",
       "9        10   Rajesh      M      97      79      88          264"
      ]
     },
     "execution_count": 7,
     "metadata": {},
     "output_type": "execute_result"
    }
   ],
   "source": [
    "df"
   ]
  },
  {
   "cell_type": "code",
   "execution_count": 8,
   "id": "bc32103f",
   "metadata": {},
   "outputs": [
    {
     "data": {
      "text/plain": [
       "67"
      ]
     },
     "execution_count": 8,
     "metadata": {},
     "output_type": "execute_result"
    }
   ],
   "source": [
    "lowest_marks1= df[\"Marks1\"].min(axis=0)\n",
    "lowest_marks1"
   ]
  },
  {
   "cell_type": "code",
   "execution_count": 9,
   "id": "8190ee28",
   "metadata": {},
   "outputs": [
    {
     "data": {
      "text/plain": [
       "93"
      ]
     },
     "execution_count": 9,
     "metadata": {},
     "output_type": "execute_result"
    }
   ],
   "source": [
    "highest_marks2= df[\"Marks2\"].max(axis=0)\n",
    "highest_marks2"
   ]
  },
  {
   "cell_type": "code",
   "execution_count": 10,
   "id": "f776a4d2",
   "metadata": {},
   "outputs": [
    {
     "data": {
      "text/plain": [
       "81.0"
      ]
     },
     "execution_count": 10,
     "metadata": {},
     "output_type": "execute_result"
    }
   ],
   "source": [
    "avg_marks3 = df[\"Marks3\"].mean(axis=0)\n",
    "avg_marks3"
   ]
  },
  {
   "cell_type": "code",
   "execution_count": 11,
   "id": "3769bb86",
   "metadata": {},
   "outputs": [
    {
     "data": {
      "text/html": [
       "<div>\n",
       "<style scoped>\n",
       "    .dataframe tbody tr th:only-of-type {\n",
       "        vertical-align: middle;\n",
       "    }\n",
       "\n",
       "    .dataframe tbody tr th {\n",
       "        vertical-align: top;\n",
       "    }\n",
       "\n",
       "    .dataframe thead th {\n",
       "        text-align: right;\n",
       "    }\n",
       "</style>\n",
       "<table border=\"1\" class=\"dataframe\">\n",
       "  <thead>\n",
       "    <tr style=\"text-align: right;\">\n",
       "      <th></th>\n",
       "      <th>Roll No.</th>\n",
       "      <th>Name</th>\n",
       "      <th>gender</th>\n",
       "      <th>Marks1</th>\n",
       "      <th>Marks2</th>\n",
       "      <th>Marks3</th>\n",
       "      <th>Total Marks</th>\n",
       "      <th>Average Marks</th>\n",
       "    </tr>\n",
       "  </thead>\n",
       "  <tbody>\n",
       "    <tr>\n",
       "      <th>0</th>\n",
       "      <td>1</td>\n",
       "      <td>Tom</td>\n",
       "      <td>M</td>\n",
       "      <td>98</td>\n",
       "      <td>93</td>\n",
       "      <td>81</td>\n",
       "      <td>272</td>\n",
       "      <td>90.666667</td>\n",
       "    </tr>\n",
       "  </tbody>\n",
       "</table>\n",
       "</div>"
      ],
      "text/plain": [
       "   Roll No. Name gender  Marks1  Marks2  Marks3  Total Marks  Average Marks\n",
       "0         1  Tom      M      98      93      81          272      90.666667"
      ]
     },
     "execution_count": 11,
     "metadata": {},
     "output_type": "execute_result"
    }
   ],
   "source": [
    "df[\"Average Marks\"]=df[dflist].mean(axis=1)\n",
    "high_avg = df[df[\"Average Marks\"]==df['Average Marks'].max(axis=0)]\n",
    "high_avg"
   ]
  },
  {
   "cell_type": "code",
   "execution_count": 13,
   "id": "a5801f70",
   "metadata": {},
   "outputs": [
    {
     "data": {
      "text/html": [
       "<div>\n",
       "<style scoped>\n",
       "    .dataframe tbody tr th:only-of-type {\n",
       "        vertical-align: middle;\n",
       "    }\n",
       "\n",
       "    .dataframe tbody tr th {\n",
       "        vertical-align: top;\n",
       "    }\n",
       "\n",
       "    .dataframe thead th {\n",
       "        text-align: right;\n",
       "    }\n",
       "</style>\n",
       "<table border=\"1\" class=\"dataframe\">\n",
       "  <thead>\n",
       "    <tr style=\"text-align: right;\">\n",
       "      <th></th>\n",
       "      <th>Roll No.</th>\n",
       "      <th>Name</th>\n",
       "      <th>gender</th>\n",
       "      <th>Marks1</th>\n",
       "      <th>Marks2</th>\n",
       "      <th>Marks3</th>\n",
       "      <th>Total Marks</th>\n",
       "      <th>Average Marks</th>\n",
       "    </tr>\n",
       "  </thead>\n",
       "  <tbody>\n",
       "    <tr>\n",
       "      <th>7</th>\n",
       "      <td>8</td>\n",
       "      <td>Wayne</td>\n",
       "      <td>M</td>\n",
       "      <td>90</td>\n",
       "      <td>38</td>\n",
       "      <td>73</td>\n",
       "      <td>201</td>\n",
       "      <td>67.0</td>\n",
       "    </tr>\n",
       "    <tr>\n",
       "      <th>8</th>\n",
       "      <td>9</td>\n",
       "      <td>Pam</td>\n",
       "      <td>F</td>\n",
       "      <td>99</td>\n",
       "      <td>33</td>\n",
       "      <td>96</td>\n",
       "      <td>228</td>\n",
       "      <td>76.0</td>\n",
       "    </tr>\n",
       "  </tbody>\n",
       "</table>\n",
       "</div>"
      ],
      "text/plain": [
       "   Roll No.   Name gender  Marks1  Marks2  Marks3  Total Marks  Average Marks\n",
       "7         8  Wayne      M      90      38      73          201           67.0\n",
       "8         9    Pam      F      99      33      96          228           76.0"
      ]
     },
     "execution_count": 13,
     "metadata": {},
     "output_type": "execute_result"
    }
   ],
   "source": [
    "fail = df[df[\"Marks2\"]<40]\n",
    "fail"
   ]
  }
 ],
 "metadata": {
  "kernelspec": {
   "display_name": "Python 3 (ipykernel)",
   "language": "python",
   "name": "python3"
  },
  "language_info": {
   "codemirror_mode": {
    "name": "ipython",
    "version": 3
   },
   "file_extension": ".py",
   "mimetype": "text/x-python",
   "name": "python",
   "nbconvert_exporter": "python",
   "pygments_lexer": "ipython3",
   "version": "3.9.12"
  }
 },
 "nbformat": 4,
 "nbformat_minor": 5
}

{
 "cells": [
  {
   "cell_type": "markdown",
   "metadata": {},
   "source": [
    "# Shivam Rajput\n",
    "# 210968104\n",
    "# Week-6"
   ]
  },
  {
   "cell_type": "markdown",
   "metadata": {},
   "source": [
    "# Exercise 2"
   ]
  },
  {
   "cell_type": "code",
   "execution_count": 105,
   "metadata": {},
   "outputs": [],
   "source": [
    "import pandas as pd\n",
    "import matplotlib.pyplot as plt\n",
    "%matplotlib inline\n",
    "import seaborn as sns\n",
    "import numpy as np\n",
    "import scipy.stats as stats\n",
    "from sklearn.cluster import KMeans\n",
    "from statsmodels.tsa.seasonal import seasonal_decompose\n",
    "from sklearn.feature_extraction.text import CountVectorizer"
   ]
  },
  {
   "cell_type": "code",
   "execution_count": 106,
   "metadata": {},
   "outputs": [
    {
     "name": "stdout",
     "output_type": "stream",
     "text": [
      "Requirement already satisfied: textblob in c:\\users\\asus\\anaconda3\\lib\\site-packages (0.17.1)\n",
      "Requirement already satisfied: nltk>=3.1; python_version >= \"3\" in c:\\users\\asus\\anaconda3\\lib\\site-packages (from textblob) (3.5)\n",
      "Requirement already satisfied: tqdm in c:\\users\\asus\\anaconda3\\lib\\site-packages (from nltk>=3.1; python_version >= \"3\"->textblob) (4.47.0)\n",
      "Note: you may need to restart the kernel to use updated packages.\n",
      "Requirement already satisfied: click in c:\\users\\asus\\anaconda3\\lib\\site-packages (from nltk>=3.1; python_version >= \"3\"->textblob) (7.1.2)\n",
      "Requirement already satisfied: joblib in c:\\users\\asus\\anaconda3\\lib\\site-packages (from nltk>=3.1; python_version >= \"3\"->textblob) (0.16.0)\n",
      "Requirement already satisfied: regex in c:\\users\\asus\\anaconda3\\lib\\site-packages (from nltk>=3.1; python_version >= \"3\"->textblob) (2020.6.8)\n"
     ]
    }
   ],
   "source": [
    "pip install textblob\n"
   ]
  },
  {
   "cell_type": "code",
   "execution_count": 107,
   "metadata": {},
   "outputs": [
    {
     "data": {
      "text/html": [
       "<div>\n",
       "<style scoped>\n",
       "    .dataframe tbody tr th:only-of-type {\n",
       "        vertical-align: middle;\n",
       "    }\n",
       "\n",
       "    .dataframe tbody tr th {\n",
       "        vertical-align: top;\n",
       "    }\n",
       "\n",
       "    .dataframe thead th {\n",
       "        text-align: right;\n",
       "    }\n",
       "</style>\n",
       "<table border=\"1\" class=\"dataframe\">\n",
       "  <thead>\n",
       "    <tr style=\"text-align: right;\">\n",
       "      <th></th>\n",
       "      <th>name</th>\n",
       "      <th>review</th>\n",
       "      <th>rating</th>\n",
       "    </tr>\n",
       "  </thead>\n",
       "  <tbody>\n",
       "    <tr>\n",
       "      <th>0</th>\n",
       "      <td>Planetwise Flannel Wipes</td>\n",
       "      <td>These flannel wipes are OK, but in my opinion ...</td>\n",
       "      <td>3</td>\n",
       "    </tr>\n",
       "    <tr>\n",
       "      <th>1</th>\n",
       "      <td>Planetwise Wipe Pouch</td>\n",
       "      <td>it came early and was not disappointed. i love...</td>\n",
       "      <td>5</td>\n",
       "    </tr>\n",
       "    <tr>\n",
       "      <th>2</th>\n",
       "      <td>Annas Dream Full Quilt with 2 Shams</td>\n",
       "      <td>Very soft and comfortable and warmer than it l...</td>\n",
       "      <td>5</td>\n",
       "    </tr>\n",
       "    <tr>\n",
       "      <th>3</th>\n",
       "      <td>Stop Pacifier Sucking without tears with Thumb...</td>\n",
       "      <td>This is a product well worth the purchase.  I ...</td>\n",
       "      <td>5</td>\n",
       "    </tr>\n",
       "    <tr>\n",
       "      <th>4</th>\n",
       "      <td>Stop Pacifier Sucking without tears with Thumb...</td>\n",
       "      <td>All of my kids have cried non-stop when I trie...</td>\n",
       "      <td>5</td>\n",
       "    </tr>\n",
       "  </tbody>\n",
       "</table>\n",
       "</div>"
      ],
      "text/plain": [
       "                                                name  \\\n",
       "0                           Planetwise Flannel Wipes   \n",
       "1                              Planetwise Wipe Pouch   \n",
       "2                Annas Dream Full Quilt with 2 Shams   \n",
       "3  Stop Pacifier Sucking without tears with Thumb...   \n",
       "4  Stop Pacifier Sucking without tears with Thumb...   \n",
       "\n",
       "                                              review  rating  \n",
       "0  These flannel wipes are OK, but in my opinion ...       3  \n",
       "1  it came early and was not disappointed. i love...       5  \n",
       "2  Very soft and comfortable and warmer than it l...       5  \n",
       "3  This is a product well worth the purchase.  I ...       5  \n",
       "4  All of my kids have cried non-stop when I trie...       5  "
      ]
     },
     "execution_count": 107,
     "metadata": {},
     "output_type": "execute_result"
    }
   ],
   "source": [
    "df = pd.read_csv('amazon_baby.csv.zip')\n",
    "df.head()"
   ]
  },
  {
   "cell_type": "markdown",
   "metadata": {},
   "source": [
    "## Q1. Check the number of the reviews received for each product. "
   ]
  },
  {
   "cell_type": "code",
   "execution_count": 108,
   "metadata": {},
   "outputs": [
    {
     "data": {
      "text/plain": [
       "Vulli Sophie the Giraffe Teether                                                                                785\n",
       "Simple Wishes Hands-Free Breastpump Bra, Pink, XS-L                                                             562\n",
       "Infant Optics DXR-5 2.4 GHz Digital Video Baby Monitor with Night Vision                                        561\n",
       "Baby Einstein Take Along Tunes                                                                                  547\n",
       "Cloud b Twilight Constellation Night Light, Turtle                                                              520\n",
       "                                                                                                               ... \n",
       "New Eco Friendly Resistant oilcloth Cotton Diaper Bag Baby Nappy Big Tote Bags,Cross Bag-Tote Type (Tote_06)      1\n",
       "Hello Kitty Chalkboard ReStik Wall Sticker Set of 2                                                               1\n",
       "Peg Perego Primo Viaggio SIP 30 30 Car Seat Kiwi with Easyview Ultimate Back Seat Mirror                          1\n",
       "Winfun Baby\\'s Dreamland Soothing Projector                                                                       1\n",
       "Circo Hit the Road Toddler Bed Set                                                                                1\n",
       "Name: name, Length: 32417, dtype: int64"
      ]
     },
     "execution_count": 108,
     "metadata": {},
     "output_type": "execute_result"
    }
   ],
   "source": [
    "df.name.value_counts()"
   ]
  },
  {
   "cell_type": "markdown",
   "metadata": {},
   "source": [
    "## Q2. Check the products that have more than 15 reviews. "
   ]
  },
  {
   "cell_type": "code",
   "execution_count": 109,
   "metadata": {},
   "outputs": [
    {
     "data": {
      "text/plain": [
       "Vulli Sophie the Giraffe Teether                                            785\n",
       "Simple Wishes Hands-Free Breastpump Bra, Pink, XS-L                         562\n",
       "Infant Optics DXR-5 2.4 GHz Digital Video Baby Monitor with Night Vision    561\n",
       "Baby Einstein Take Along Tunes                                              547\n",
       "Cloud b Twilight Constellation Night Light, Turtle                          520\n",
       "                                                                           ... \n",
       "Badger Basket Barrel Top Toy Box, Natural                                    16\n",
       "Lil Joey 2 Pack All-In-One Cloth Diaper, Lux                                 16\n",
       "Label Itz Bandette Cup and Bottle Labels, Zoo Animals                        16\n",
       "Carters Keep Me Close Blanket, Ecru                                          16\n",
       "Boppy Newborn Lounger                                                        16\n",
       "Name: name, Length: 2339, dtype: int64"
      ]
     },
     "execution_count": 109,
     "metadata": {},
     "output_type": "execute_result"
    }
   ],
   "source": [
    "df.name.value_counts().loc[lambda x : x > 15]"
   ]
  },
  {
   "cell_type": "markdown",
   "metadata": {},
   "source": [
    "## Q3. Find any missing review are present or not, If present remove those data "
   ]
  },
  {
   "cell_type": "code",
   "execution_count": 110,
   "metadata": {
    "scrolled": true
   },
   "outputs": [
    {
     "data": {
      "text/html": [
       "<div>\n",
       "<style scoped>\n",
       "    .dataframe tbody tr th:only-of-type {\n",
       "        vertical-align: middle;\n",
       "    }\n",
       "\n",
       "    .dataframe tbody tr th {\n",
       "        vertical-align: top;\n",
       "    }\n",
       "\n",
       "    .dataframe thead th {\n",
       "        text-align: right;\n",
       "    }\n",
       "</style>\n",
       "<table border=\"1\" class=\"dataframe\">\n",
       "  <thead>\n",
       "    <tr style=\"text-align: right;\">\n",
       "      <th></th>\n",
       "      <th>name</th>\n",
       "      <th>review</th>\n",
       "      <th>rating</th>\n",
       "    </tr>\n",
       "  </thead>\n",
       "  <tbody>\n",
       "    <tr>\n",
       "      <th>0</th>\n",
       "      <td>Planetwise Flannel Wipes</td>\n",
       "      <td>These flannel wipes are OK, but in my opinion ...</td>\n",
       "      <td>3</td>\n",
       "    </tr>\n",
       "    <tr>\n",
       "      <th>1</th>\n",
       "      <td>Planetwise Wipe Pouch</td>\n",
       "      <td>it came early and was not disappointed. i love...</td>\n",
       "      <td>5</td>\n",
       "    </tr>\n",
       "    <tr>\n",
       "      <th>2</th>\n",
       "      <td>Annas Dream Full Quilt with 2 Shams</td>\n",
       "      <td>Very soft and comfortable and warmer than it l...</td>\n",
       "      <td>5</td>\n",
       "    </tr>\n",
       "    <tr>\n",
       "      <th>3</th>\n",
       "      <td>Stop Pacifier Sucking without tears with Thumb...</td>\n",
       "      <td>This is a product well worth the purchase.  I ...</td>\n",
       "      <td>5</td>\n",
       "    </tr>\n",
       "    <tr>\n",
       "      <th>4</th>\n",
       "      <td>Stop Pacifier Sucking without tears with Thumb...</td>\n",
       "      <td>All of my kids have cried non-stop when I trie...</td>\n",
       "      <td>5</td>\n",
       "    </tr>\n",
       "    <tr>\n",
       "      <th>...</th>\n",
       "      <td>...</td>\n",
       "      <td>...</td>\n",
       "      <td>...</td>\n",
       "    </tr>\n",
       "    <tr>\n",
       "      <th>183526</th>\n",
       "      <td>Baby Teething Necklace for Mom Pretty Donut Sh...</td>\n",
       "      <td>Such a great idea! very handy to have and look...</td>\n",
       "      <td>5</td>\n",
       "    </tr>\n",
       "    <tr>\n",
       "      <th>183527</th>\n",
       "      <td>Baby Teething Necklace for Mom Pretty Donut Sh...</td>\n",
       "      <td>This product rocks!  It is a great blend of fu...</td>\n",
       "      <td>5</td>\n",
       "    </tr>\n",
       "    <tr>\n",
       "      <th>183528</th>\n",
       "      <td>Abstract 2 PK Baby / Toddler Training Cup (Pink)</td>\n",
       "      <td>This item looks great and cool for my kids.......</td>\n",
       "      <td>5</td>\n",
       "    </tr>\n",
       "    <tr>\n",
       "      <th>183529</th>\n",
       "      <td>Baby Food Freezer Tray - Bacteria Resistant, B...</td>\n",
       "      <td>I am extremely happy with this product. I have...</td>\n",
       "      <td>5</td>\n",
       "    </tr>\n",
       "    <tr>\n",
       "      <th>183530</th>\n",
       "      <td>Best 2 Pack Baby Car Shade for Kids - Window S...</td>\n",
       "      <td>I love this product very mush . I have bought ...</td>\n",
       "      <td>5</td>\n",
       "    </tr>\n",
       "  </tbody>\n",
       "</table>\n",
       "<p>182702 rows × 3 columns</p>\n",
       "</div>"
      ],
      "text/plain": [
       "                                                     name  \\\n",
       "0                                Planetwise Flannel Wipes   \n",
       "1                                   Planetwise Wipe Pouch   \n",
       "2                     Annas Dream Full Quilt with 2 Shams   \n",
       "3       Stop Pacifier Sucking without tears with Thumb...   \n",
       "4       Stop Pacifier Sucking without tears with Thumb...   \n",
       "...                                                   ...   \n",
       "183526  Baby Teething Necklace for Mom Pretty Donut Sh...   \n",
       "183527  Baby Teething Necklace for Mom Pretty Donut Sh...   \n",
       "183528   Abstract 2 PK Baby / Toddler Training Cup (Pink)   \n",
       "183529  Baby Food Freezer Tray - Bacteria Resistant, B...   \n",
       "183530  Best 2 Pack Baby Car Shade for Kids - Window S...   \n",
       "\n",
       "                                                   review  rating  \n",
       "0       These flannel wipes are OK, but in my opinion ...       3  \n",
       "1       it came early and was not disappointed. i love...       5  \n",
       "2       Very soft and comfortable and warmer than it l...       5  \n",
       "3       This is a product well worth the purchase.  I ...       5  \n",
       "4       All of my kids have cried non-stop when I trie...       5  \n",
       "...                                                   ...     ...  \n",
       "183526  Such a great idea! very handy to have and look...       5  \n",
       "183527  This product rocks!  It is a great blend of fu...       5  \n",
       "183528  This item looks great and cool for my kids.......       5  \n",
       "183529  I am extremely happy with this product. I have...       5  \n",
       "183530  I love this product very mush . I have bought ...       5  \n",
       "\n",
       "[182702 rows x 3 columns]"
      ]
     },
     "execution_count": 110,
     "metadata": {},
     "output_type": "execute_result"
    }
   ],
   "source": [
    "df.isnull().sum()\n",
    "df = df[df.review.notna()]\n",
    "df"
   ]
  },
  {
   "cell_type": "markdown",
   "metadata": {},
   "source": [
    "## Q4. Clean the data and replace the contractions with their expansions. "
   ]
  },
  {
   "cell_type": "code",
   "execution_count": 111,
   "metadata": {},
   "outputs": [],
   "source": [
    "contractions = {\n",
    "\"a'ight\":\"alright\",\n",
    "\"ain't\":\"are not\",\n",
    "\"amn't\":\"am not\",\n",
    "\"aren't\":\"are not\",\n",
    "\"can't\":\"cannot\",\n",
    "\"'cause\": \"because\",\n",
    "\"could've\":\"could have\",\n",
    "\"couldn't\":\"could not\",\n",
    "\"couldn't've\":\"could not have\",\n",
    "\"daren't\":\"dare not\",\n",
    "\"daresn't\":\"dare not\",\n",
    "\"dasn't\":\"dare not\",\n",
    "\"didn't\":\"did not\",\n",
    "\"doesn't\":\"does not\",\n",
    "\"don't\":\"do not\",\n",
    "\"everybody's\":\"everybody is\",\n",
    "\"everyone's\":\"everyone is\",\n",
    "\"giv'n\":\"given\",\n",
    "\"gonna\":\"going to\",\n",
    "\"gon't\":\"go not\", \n",
    "\"gotta\":\"got to\",\n",
    "\"hadn't\":\"had not\",\n",
    "\"had've\":\"had have\",\n",
    "\"hasn't\":\"has not\",\n",
    "\"haven't\":\"have not\",\n",
    "\"he'd\":\"he had\", \n",
    "\"he'll\":\"he will\",\n",
    "\"he's\":\"he is\",\n",
    "\"here's\":\"here is\",\n",
    "\"how'd\":\"how did\",\n",
    "\"how'll\":\"how will\",\n",
    "\"how're\":\"how are\",\n",
    "\"how's\":\"how is\",\n",
    "\"I'd\":\"I had\",\n",
    "\"I'd've\":\"I would have\",\n",
    "\"I'd'nt\":\"I would not\",\n",
    "\"I'd'nt've\":\"I would not have\",\n",
    "\"I'll\":\"I will\",\n",
    "\"I'm\":\"I am\",\n",
    "\"I've\":\"I have\",\n",
    "\"isn't\":\"is not\",\n",
    "\"it'd\":\"it would\",\n",
    "\"it'll\":\"it will\",\n",
    "\"it's\":\"it is\",\n",
    "\"let's\":\"let us\",\n",
    "\"ma'am\":\"madam\",\n",
    "\"mayn't\":\"may not\",\n",
    "\"may've\":\"may have\",\n",
    "\"mightn't\":\"might not\",\n",
    "\"might've\":\"might have\",\n",
    "\"mustn't\":\"must not\",\n",
    "\"mustn't've\":\"must not have\",\n",
    "\"must've\":\"must have\",\n",
    "\"needn't\":\"need not\",\n",
    "\"needn't've\":\"need not have\",\n",
    "\"o'clock\":\"of the clock\",\n",
    "\"oughtn't\":\"ought not\",\n",
    "\"oughtn't've\":\"ought not have\",\n",
    "\"shan't\":\"shall not\",\n",
    "\"she'd\":\"she would\",\n",
    "\"she'll\":\"she will\",\n",
    "\"she's\":\"she is\",\n",
    "\"should've\":\"should have\",\n",
    "\"shouldn't\":\"should not\",\n",
    "\"shouldn't've\":\"should not have\",\n",
    "\"somebody's\":\"somebody is\",\n",
    "\"someone's\":\"someone is\",\n",
    "\"something's\":\"something is\",\n",
    "\"so're\":\"so are\",\n",
    "\"so’s\":\"so is\",\n",
    "\"so’ve\":\"so have\",\n",
    "\"that'll\":\"that will\",\n",
    "\"that're\":\"that are\",\n",
    "\"that's\":\"that is\",\n",
    "\"that'd\":\"that would\",\n",
    "\"there'd\":\"there would\",\n",
    "\"there'll\":\"there will\",\n",
    "\"there're\":\"there are\",\n",
    "\"there's\":\"there is\",\n",
    "\"these're\":\"these are\",\n",
    "\"these've\":\"these have\",\n",
    "\"they'd\":\"they would\",\n",
    "\"they'll\":\"they will\",\n",
    "\"they're\":\"they are\",\n",
    "\"they've\":\"they have\",\n",
    "\"this's\":\"this is\",\n",
    "\"those're\":\"those are\",\n",
    "\"those've\":\"those have\",\n",
    "\"to've\":\"to have\",\n",
    "\"wasn't\":\"was not\",\n",
    "\"we'd\":\"we would\",\n",
    "\"we'd've\":\"we would have\",\n",
    "\"we'll\":\"we will\",\n",
    "\"we're\":\"we are\",\n",
    "\"we've\":\"we have\",\n",
    "\"weren't\":\"were not\",\n",
    "\"what'd\":\"what did\",\n",
    "\"what'll\":\"what will\",\n",
    "\"what're\":\"what are\",\n",
    "\"what's\":\"what is\",\n",
    "\"what've\":\"what have\",\n",
    "\"when's\":\"when is\",\n",
    "\"where'd\":\"where did\",\n",
    "\"where'll\":\"where will\",\n",
    "\"where're\":\"where are\",\n",
    "\"where's\":\"where is\",\n",
    "\"where've\":\"where have\",\n",
    "\"which'd\":\"which would\",\n",
    "\"which'll\":\"which will\",\n",
    "\"which're\":\"which are\",\n",
    "\"which's\":\"which is\",\n",
    "\"which've\":\"which have\",\n",
    "\"who'd\":\"who would\",\n",
    "\"who'd've\":\"who would have\",\n",
    "\"who'll\":\"who will\",\n",
    "\"who're\":\"who are\",\n",
    "\"who's\":\"who is\",\n",
    "\"who've\":\"who have\",\n",
    "\"why'd\":\"why did\",\n",
    "\"why're\":\"why are\",\n",
    "\"why's\":\"why is\",\n",
    "\"won't\":\"will not\",\n",
    "\"would've\":\"would have\",\n",
    "\"wouldn't\":\"would not\",\n",
    "\"wouldn't've\":\"would not have\",\n",
    "\"y'at\":\"you at\",\n",
    "\"yes’m\":\"yes madam\",\n",
    "\"you'd\":\"you would\",\n",
    "\"you'll\":\"you will\",\n",
    "\"you're\":\"you are\",\n",
    "\"you've\":\"you have\"}"
   ]
  },
  {
   "cell_type": "code",
   "execution_count": 112,
   "metadata": {},
   "outputs": [],
   "source": [
    "def cont_to_exp(x):\n",
    "    if type(x) is str:\n",
    "        x = x.replace('\\\\','')\n",
    "        for key in contractions:\n",
    "            value = contractions[key]\n",
    "            x = x.replace(key, value)\n",
    "        return x\n",
    "    else:\n",
    "        return x\n",
    "    \n",
    "df['review'] = df['review'].apply(lambda x:cont_to_exp(x))\n"
   ]
  },
  {
   "cell_type": "code",
   "execution_count": 113,
   "metadata": {},
   "outputs": [
    {
     "data": {
      "text/plain": [
       "0         These flannel wipes are OK, but in my opinion ...\n",
       "1         it came early and was not disappointed. i love...\n",
       "2         Very soft and comfortable and warmer than it l...\n",
       "3         This is a product well worth the purchase.  I ...\n",
       "4         All of my kids have cried non-stop when I trie...\n",
       "                                ...                        \n",
       "183526    Such a great idea! very handy to have and look...\n",
       "183527    This product rocks!  It is a great blend of fu...\n",
       "183528    This item looks great and cool for my kids.......\n",
       "183529    I am extremely happy with this product. I have...\n",
       "183530    I love this product very mush . I have bought ...\n",
       "Name: review, Length: 182702, dtype: object"
      ]
     },
     "execution_count": 113,
     "metadata": {},
     "output_type": "execute_result"
    }
   ],
   "source": [
    "df['review']"
   ]
  },
  {
   "cell_type": "markdown",
   "metadata": {},
   "source": [
    "## Q5. Add the Polarity, length of the review, the word count and average word length of each review.  "
   ]
  },
  {
   "cell_type": "code",
   "execution_count": 114,
   "metadata": {},
   "outputs": [],
   "source": [
    "from textblob import TextBlob\n",
    "\n",
    "df['polarity'] = df['review'].apply(lambda x: TextBlob(x).sentiment.polarity)\n",
    "\n",
    "\n",
    "df['review_len'] = df['review'].apply(lambda x:len(x))\n",
    "\n",
    "df['word_count'] = df['review'].apply(lambda x: len(x.split()))\n",
    "\n",
    "\n",
    "def get_avg_word_len(x):\n",
    "    words = x.split()\n",
    "    word_len = 0\n",
    "    for word in words:\n",
    "        word_len = word_len + len(word)\n",
    "        \n",
    "    return word_len/len(words) \n",
    "\n",
    "\n",
    "df['avg_word_len'] = df['review'].apply(lambda x: get_avg_word_len(x))"
   ]
  },
  {
   "cell_type": "markdown",
   "metadata": {},
   "source": [
    "## Q6. Visualize the distribution of the word count, review length, and polarity. "
   ]
  },
  {
   "cell_type": "code",
   "execution_count": 115,
   "metadata": {},
   "outputs": [
    {
     "data": {
      "text/plain": [
       "Text(0.5, 1.0, 'Sentiment Polarity Distribution')"
      ]
     },
     "execution_count": 115,
     "metadata": {},
     "output_type": "execute_result"
    },
    {
     "data": {
      "image/png": "[encoded data removed]",
      "text/plain": [
       "<Figure size 432x288 with 1 Axes>"
      ]
     },
     "metadata": {
      "needs_background": "light"
     },
     "output_type": "display_data"
    }
   ],
   "source": [
    "df['polarity'].hist(bins=20)\n",
    "plt.xlabel('polarity')\n",
    "plt.ylabel('count')\n",
    "plt.title('Sentiment Polarity Distribution')"
   ]
  },
  {
   "cell_type": "markdown",
   "metadata": {},
   "source": [
    "## histogram for review length"
   ]
  },
  {
   "cell_type": "code",
   "execution_count": 116,
   "metadata": {},
   "outputs": [
    {
     "data": {
      "text/plain": [
       "Text(0.5, 1.0, 'Review Text Length Distribution')"
      ]
     },
     "execution_count": 116,
     "metadata": {},
     "output_type": "execute_result"
    },
    {
     "data": {
      "image/png": "[encoded data removed]",
      "text/plain": [
       "<Figure size 432x288 with 1 Axes>"
      ]
     },
     "metadata": {
      "needs_background": "light"
     },
     "output_type": "display_data"
    }
   ],
   "source": [
    "\n",
    "df['review_len'].hist(bins=20)\n",
    "plt.xlabel('review length')\n",
    "plt.ylabel('count')\n",
    "plt.title('Review Text Length Distribution')\n"
   ]
  },
  {
   "cell_type": "markdown",
   "metadata": {},
   "source": [
    "## histogram for word count "
   ]
  },
  {
   "cell_type": "code",
   "execution_count": 117,
   "metadata": {},
   "outputs": [
    {
     "data": {
      "text/plain": [
       "Text(0.5, 1.0, 'Word Count Distribution')"
      ]
     },
     "execution_count": 117,
     "metadata": {},
     "output_type": "execute_result"
    },
    {
     "data": {
      "image/png": "[encoded data removed]",
      "text/plain": [
       "<Figure size 432x288 with 1 Axes>"
      ]
     },
     "metadata": {
      "needs_background": "light"
     },
     "output_type": "display_data"
    }
   ],
   "source": [
    "\n",
    "df['word_count'].hist(bins=20)\n",
    "plt.xlabel('word count')\n",
    "plt.ylabel('count')\n",
    "plt.title('Word Count Distribution')"
   ]
  },
  {
   "cell_type": "markdown",
   "metadata": {},
   "source": [
    "## Q7. Visualize polarity considering the rating."
   ]
  },
  {
   "cell_type": "code",
   "execution_count": 118,
   "metadata": {},
   "outputs": [
    {
     "data": {
      "text/plain": [
       "Text(0.5, 1.0, 'Polarity considering Rating')"
      ]
     },
     "execution_count": 118,
     "metadata": {},
     "output_type": "execute_result"
    },
    {
     "data": {
      "image/png": "[encoded data removed]",
      "text/plain": [
       "<Figure size 432x288 with 1 Axes>"
      ]
     },
     "metadata": {
      "needs_background": "light"
     },
     "output_type": "display_data"
    }
   ],
   "source": [
    "df.groupby(by='rating').polarity.agg([np.mean]).plot()\n",
    "plt.xlabel('rating')\n",
    "plt.ylabel('polarity')\n",
    "plt.title('Polarity considering Rating')"
   ]
  },
  {
   "cell_type": "markdown",
   "metadata": {},
   "source": [
    "## Q8. Visualize the count of the reviews of each rating available in the dataset. "
   ]
  },
  {
   "cell_type": "code",
   "execution_count": 119,
   "metadata": {},
   "outputs": [
    {
     "data": {
      "text/plain": [
       "Text(0.5, 1.0, 'count of the reviews of each rating')"
      ]
     },
     "execution_count": 119,
     "metadata": {},
     "output_type": "execute_result"
    },
    {
     "data": {
      "image/png": "[encoded data removed]",
      "text/plain": [
       "<Figure size 432x288 with 1 Axes>"
      ]
     },
     "metadata": {
      "needs_background": "light"
     },
     "output_type": "display_data"
    }
   ],
   "source": [
    "df.groupby(by='rating').review.count().plot.bar()\n",
    "plt.xlabel('rating')\n",
    "plt.ylabel('no. of reviews')\n",
    "plt.title('count of the reviews of each rating')"
   ]
  },
  {
   "cell_type": "markdown",
   "metadata": {},
   "source": [
    "## Q9. List the Top 20 products based on the polarity "
   ]
  },
  {
   "cell_type": "code",
   "execution_count": 120,
   "metadata": {},
   "outputs": [
    {
     "data": {
      "text/html": [
       "<div>\n",
       "<style scoped>\n",
       "    .dataframe tbody tr th:only-of-type {\n",
       "        vertical-align: middle;\n",
       "    }\n",
       "\n",
       "    .dataframe tbody tr th {\n",
       "        vertical-align: top;\n",
       "    }\n",
       "\n",
       "    .dataframe thead th {\n",
       "        text-align: right;\n",
       "    }\n",
       "</style>\n",
       "<table border=\"1\" class=\"dataframe\">\n",
       "  <thead>\n",
       "    <tr style=\"text-align: right;\">\n",
       "      <th></th>\n",
       "      <th>name</th>\n",
       "      <th>review</th>\n",
       "      <th>rating</th>\n",
       "      <th>polarity</th>\n",
       "      <th>review_len</th>\n",
       "      <th>word_count</th>\n",
       "      <th>avg_word_len</th>\n",
       "    </tr>\n",
       "  </thead>\n",
       "  <tbody>\n",
       "    <tr>\n",
       "      <th>121032</th>\n",
       "      <td>BOB Ironman Duallie Stroller, Yellow</td>\n",
       "      <td>Best one out there for running with 2 kids. My...</td>\n",
       "      <td>5</td>\n",
       "      <td>1.0</td>\n",
       "      <td>116</td>\n",
       "      <td>24</td>\n",
       "      <td>3.875000</td>\n",
       "    </tr>\n",
       "    <tr>\n",
       "      <th>152316</th>\n",
       "      <td>God Bless Plush Lamb Wubbanub Pacifier by Mary...</td>\n",
       "      <td>Great Pacifiers!</td>\n",
       "      <td>5</td>\n",
       "      <td>1.0</td>\n",
       "      <td>16</td>\n",
       "      <td>2</td>\n",
       "      <td>7.500000</td>\n",
       "    </tr>\n",
       "    <tr>\n",
       "      <th>8060</th>\n",
       "      <td>HALO SleepSack Micro-Fleece Wearable Blanket, ...</td>\n",
       "      <td>My 1yo daughter has to wear a hip abduction br...</td>\n",
       "      <td>5</td>\n",
       "      <td>1.0</td>\n",
       "      <td>121</td>\n",
       "      <td>22</td>\n",
       "      <td>4.545455</td>\n",
       "    </tr>\n",
       "    <tr>\n",
       "      <th>177173</th>\n",
       "      <td>Angel Dear Blankie, Blue Giraffe</td>\n",
       "      <td>These make excellent shower gifts.  My daughte...</td>\n",
       "      <td>5</td>\n",
       "      <td>1.0</td>\n",
       "      <td>130</td>\n",
       "      <td>24</td>\n",
       "      <td>4.416667</td>\n",
       "    </tr>\n",
       "    <tr>\n",
       "      <th>75438</th>\n",
       "      <td>Lambs &amp;amp; Ivy Bedtime Originals Hello Kitty ...</td>\n",
       "      <td>My granddaughter's room is done in hello kitty...</td>\n",
       "      <td>5</td>\n",
       "      <td>1.0</td>\n",
       "      <td>118</td>\n",
       "      <td>21</td>\n",
       "      <td>4.571429</td>\n",
       "    </tr>\n",
       "    <tr>\n",
       "      <th>162222</th>\n",
       "      <td>MAM Eco 2+ Orthodonic Pacifiers 3 Ct.</td>\n",
       "      <td>These are always the best. My daughter does no...</td>\n",
       "      <td>5</td>\n",
       "      <td>1.0</td>\n",
       "      <td>112</td>\n",
       "      <td>21</td>\n",
       "      <td>4.380952</td>\n",
       "    </tr>\n",
       "    <tr>\n",
       "      <th>181853</th>\n",
       "      <td>Graco Size4Me 65 Convertible Car Seat, Pierce</td>\n",
       "      <td>Awesome car seat. Fits well in my four runner ...</td>\n",
       "      <td>5</td>\n",
       "      <td>1.0</td>\n",
       "      <td>67</td>\n",
       "      <td>13</td>\n",
       "      <td>4.230769</td>\n",
       "    </tr>\n",
       "    <tr>\n",
       "      <th>21341</th>\n",
       "      <td>Summer Infant Gentle Vibrations Massager And T...</td>\n",
       "      <td>Great toothbrush! Helps my son with his feedin...</td>\n",
       "      <td>5</td>\n",
       "      <td>1.0</td>\n",
       "      <td>111</td>\n",
       "      <td>20</td>\n",
       "      <td>4.600000</td>\n",
       "    </tr>\n",
       "    <tr>\n",
       "      <th>2366</th>\n",
       "      <td>Prince Lionheart Table Edge Guard with 4 Corne...</td>\n",
       "      <td>Perfect choice to protect my grandsons face!!!...</td>\n",
       "      <td>5</td>\n",
       "      <td>1.0</td>\n",
       "      <td>115</td>\n",
       "      <td>21</td>\n",
       "      <td>4.523810</td>\n",
       "    </tr>\n",
       "    <tr>\n",
       "      <th>182810</th>\n",
       "      <td>Chummie Potty Training Ladder Step Up Seat</td>\n",
       "      <td>THEE BEST EVER</td>\n",
       "      <td>5</td>\n",
       "      <td>1.0</td>\n",
       "      <td>14</td>\n",
       "      <td>3</td>\n",
       "      <td>4.000000</td>\n",
       "    </tr>\n",
       "    <tr>\n",
       "      <th>75486</th>\n",
       "      <td>Safety 1st Soft Spout Cover</td>\n",
       "      <td>This works great on our tub spout! I have not ...</td>\n",
       "      <td>4</td>\n",
       "      <td>1.0</td>\n",
       "      <td>81</td>\n",
       "      <td>16</td>\n",
       "      <td>4.125000</td>\n",
       "    </tr>\n",
       "    <tr>\n",
       "      <th>177131</th>\n",
       "      <td>Xodo Kid\\'s Little rascal Light Weight EVA Dro...</td>\n",
       "      <td>i bought this for my sons ipad! works wonderfu...</td>\n",
       "      <td>5</td>\n",
       "      <td>1.0</td>\n",
       "      <td>111</td>\n",
       "      <td>22</td>\n",
       "      <td>4.090909</td>\n",
       "    </tr>\n",
       "    <tr>\n",
       "      <th>137728</th>\n",
       "      <td>Infantino Sash Mei Tai Carrier Black/Gray</td>\n",
       "      <td>It is awesome. My wife loves it. It carries ou...</td>\n",
       "      <td>5</td>\n",
       "      <td>1.0</td>\n",
       "      <td>99</td>\n",
       "      <td>21</td>\n",
       "      <td>3.761905</td>\n",
       "    </tr>\n",
       "    <tr>\n",
       "      <th>75509</th>\n",
       "      <td>Yookidoo Flow \\'N Fill Spout Bath Toy (9m+)</td>\n",
       "      <td>My 2yo Daughter got this for Christmas and she...</td>\n",
       "      <td>4</td>\n",
       "      <td>1.0</td>\n",
       "      <td>164</td>\n",
       "      <td>33</td>\n",
       "      <td>4.000000</td>\n",
       "    </tr>\n",
       "    <tr>\n",
       "      <th>142165</th>\n",
       "      <td>BRICA Drink Pod Stroller Drink Holder, Gray</td>\n",
       "      <td>I use an electric scooter to get around.  This...</td>\n",
       "      <td>5</td>\n",
       "      <td>1.0</td>\n",
       "      <td>122</td>\n",
       "      <td>22</td>\n",
       "      <td>4.545455</td>\n",
       "    </tr>\n",
       "    <tr>\n",
       "      <th>90864</th>\n",
       "      <td>Safety 1st OnBoard 35 Adjustable Infant Car Se...</td>\n",
       "      <td>Works great!  Bought two of them. I would rec ...</td>\n",
       "      <td>5</td>\n",
       "      <td>1.0</td>\n",
       "      <td>130</td>\n",
       "      <td>25</td>\n",
       "      <td>4.160000</td>\n",
       "    </tr>\n",
       "    <tr>\n",
       "      <th>69293</th>\n",
       "      <td>Baby Jogger Bassinet, Black</td>\n",
       "      <td>The bassinet itself is awesome, but way overpr...</td>\n",
       "      <td>1</td>\n",
       "      <td>1.0</td>\n",
       "      <td>162</td>\n",
       "      <td>27</td>\n",
       "      <td>5.037037</td>\n",
       "    </tr>\n",
       "    <tr>\n",
       "      <th>59462</th>\n",
       "      <td>About to Hatch Ceramic Baby Chick Salt &amp;amp; P...</td>\n",
       "      <td>bought this for baby shower gift for mom got t...</td>\n",
       "      <td>5</td>\n",
       "      <td>1.0</td>\n",
       "      <td>106</td>\n",
       "      <td>23</td>\n",
       "      <td>3.652174</td>\n",
       "    </tr>\n",
       "    <tr>\n",
       "      <th>121849</th>\n",
       "      <td>Sealy Baby Firm Rest Crib Mattress</td>\n",
       "      <td>Awesome and for a great price! Well made and I...</td>\n",
       "      <td>5</td>\n",
       "      <td>1.0</td>\n",
       "      <td>91</td>\n",
       "      <td>21</td>\n",
       "      <td>3.380952</td>\n",
       "    </tr>\n",
       "    <tr>\n",
       "      <th>155101</th>\n",
       "      <td>VTech Communications Safe &amp;amp; Sound Digital ...</td>\n",
       "      <td>Works beautifully!</td>\n",
       "      <td>5</td>\n",
       "      <td>1.0</td>\n",
       "      <td>18</td>\n",
       "      <td>2</td>\n",
       "      <td>8.500000</td>\n",
       "    </tr>\n",
       "  </tbody>\n",
       "</table>\n",
       "</div>"
      ],
      "text/plain": [
       "                                                     name  \\\n",
       "121032               BOB Ironman Duallie Stroller, Yellow   \n",
       "152316  God Bless Plush Lamb Wubbanub Pacifier by Mary...   \n",
       "8060    HALO SleepSack Micro-Fleece Wearable Blanket, ...   \n",
       "177173                   Angel Dear Blankie, Blue Giraffe   \n",
       "75438   Lambs &amp; Ivy Bedtime Originals Hello Kitty ...   \n",
       "162222              MAM Eco 2+ Orthodonic Pacifiers 3 Ct.   \n",
       "181853      Graco Size4Me 65 Convertible Car Seat, Pierce   \n",
       "21341   Summer Infant Gentle Vibrations Massager And T...   \n",
       "2366    Prince Lionheart Table Edge Guard with 4 Corne...   \n",
       "182810         Chummie Potty Training Ladder Step Up Seat   \n",
       "75486                         Safety 1st Soft Spout Cover   \n",
       "177131  Xodo Kid\\'s Little rascal Light Weight EVA Dro...   \n",
       "137728          Infantino Sash Mei Tai Carrier Black/Gray   \n",
       "75509         Yookidoo Flow \\'N Fill Spout Bath Toy (9m+)   \n",
       "142165        BRICA Drink Pod Stroller Drink Holder, Gray   \n",
       "90864   Safety 1st OnBoard 35 Adjustable Infant Car Se...   \n",
       "69293                         Baby Jogger Bassinet, Black   \n",
       "59462   About to Hatch Ceramic Baby Chick Salt &amp; P...   \n",
       "121849                 Sealy Baby Firm Rest Crib Mattress   \n",
       "155101  VTech Communications Safe &amp; Sound Digital ...   \n",
       "\n",
       "                                                   review  rating  polarity  \\\n",
       "121032  Best one out there for running with 2 kids. My...       5       1.0   \n",
       "152316                                   Great Pacifiers!       5       1.0   \n",
       "8060    My 1yo daughter has to wear a hip abduction br...       5       1.0   \n",
       "177173  These make excellent shower gifts.  My daughte...       5       1.0   \n",
       "75438   My granddaughter's room is done in hello kitty...       5       1.0   \n",
       "162222  These are always the best. My daughter does no...       5       1.0   \n",
       "181853  Awesome car seat. Fits well in my four runner ...       5       1.0   \n",
       "21341   Great toothbrush! Helps my son with his feedin...       5       1.0   \n",
       "2366    Perfect choice to protect my grandsons face!!!...       5       1.0   \n",
       "182810                                     THEE BEST EVER       5       1.0   \n",
       "75486   This works great on our tub spout! I have not ...       4       1.0   \n",
       "177131  i bought this for my sons ipad! works wonderfu...       5       1.0   \n",
       "137728  It is awesome. My wife loves it. It carries ou...       5       1.0   \n",
       "75509   My 2yo Daughter got this for Christmas and she...       4       1.0   \n",
       "142165  I use an electric scooter to get around.  This...       5       1.0   \n",
       "90864   Works great!  Bought two of them. I would rec ...       5       1.0   \n",
       "69293   The bassinet itself is awesome, but way overpr...       1       1.0   \n",
       "59462   bought this for baby shower gift for mom got t...       5       1.0   \n",
       "121849  Awesome and for a great price! Well made and I...       5       1.0   \n",
       "155101                                 Works beautifully!       5       1.0   \n",
       "\n",
       "        review_len  word_count  avg_word_len  \n",
       "121032         116          24      3.875000  \n",
       "152316          16           2      7.500000  \n",
       "8060           121          22      4.545455  \n",
       "177173         130          24      4.416667  \n",
       "75438          118          21      4.571429  \n",
       "162222         112          21      4.380952  \n",
       "181853          67          13      4.230769  \n",
       "21341          111          20      4.600000  \n",
       "2366           115          21      4.523810  \n",
       "182810          14           3      4.000000  \n",
       "75486           81          16      4.125000  \n",
       "177131         111          22      4.090909  \n",
       "137728          99          21      3.761905  \n",
       "75509          164          33      4.000000  \n",
       "142165         122          22      4.545455  \n",
       "90864          130          25      4.160000  \n",
       "69293          162          27      5.037037  \n",
       "59462          106          23      3.652174  \n",
       "121849          91          21      3.380952  \n",
       "155101          18           2      8.500000  "
      ]
     },
     "execution_count": 120,
     "metadata": {},
     "output_type": "execute_result"
    }
   ],
   "source": [
    "df.sort_values(by='polarity', ascending=False)[0:20]"
   ]
  },
  {
   "cell_type": "markdown",
   "metadata": {},
   "source": [
    "## Q10. Visualize to check whether the review length changes with rating. "
   ]
  },
  {
   "cell_type": "code",
   "execution_count": 121,
   "metadata": {},
   "outputs": [
    {
     "data": {
      "text/plain": [
       "Text(0.5, 1.0, 'Review Length vs Rating')"
      ]
     },
     "execution_count": 121,
     "metadata": {},
     "output_type": "execute_result"
    },
    {
     "data": {
      "image/png": "[encoded data removed]",
      "text/plain": [
       "<Figure size 432x288 with 1 Axes>"
      ]
     },
     "metadata": {
      "needs_background": "light"
     },
     "output_type": "display_data"
    }
   ],
   "source": [
    "sns.barplot(x='rating', y='review_len', data=df, ci=None)\n",
    "plt.xlabel('rating')\n",
    "plt.ylabel('review length')\n",
    "plt.title('Review Length vs Rating')"
   ]
  },
  {
   "cell_type": "markdown",
   "metadata": {},
   "source": [
    "## Q11. Visualize the distribution of Top 25 Unigram, Bigram and Trigram. "
   ]
  },
  {
   "cell_type": "code",
   "execution_count": 122,
   "metadata": {},
   "outputs": [],
   "source": [
    "def get_top_n_words(x, n=25):\n",
    "    vec = CountVectorizer(stop_words='english').fit(x)\n",
    "    bag_of_words = vec.transform(x)\n",
    "    sum_words = bag_of_words.sum(axis=0) \n",
    "    words_freq = [(word, sum_words[0, idx]) for word, idx in vec.vocabulary_.items()]\n",
    "    words_freq =sorted(words_freq, key = lambda x: x[1], reverse=True)\n",
    "    return words_freq[:n]"
   ]
  },
  {
   "cell_type": "code",
   "execution_count": 123,
   "metadata": {},
   "outputs": [
    {
     "data": {
      "text/plain": [
       "Text(0.5, 1.0, 'Unigrams Count')"
      ]
     },
     "execution_count": 123,
     "metadata": {},
     "output_type": "execute_result"
    },
    {
     "data": {
      "image/png": "[encoded data removed]",
      "text/plain": [
       "<Figure size 432x288 with 1 Axes>"
      ]
     },
     "metadata": {
      "needs_background": "light"
     },
     "output_type": "display_data"
    }
   ],
   "source": [
    "common_words = get_top_n_words(df['review'], 25)\n",
    "common_words\n",
    "df1 = pd.DataFrame(common_words, columns = ['Unigram Text' , 'Count'])\n",
    "\n",
    "df1.set_index('Unigram Text', drop=True, inplace=True)\n",
    "df1.plot.bar()\n",
    "plt.xlabel('unigrams')\n",
    "plt.ylabel('count')\n",
    "plt.title('Unigrams Count')"
   ]
  },
  {
   "cell_type": "code",
   "execution_count": 124,
   "metadata": {},
   "outputs": [],
   "source": [
    "\n",
    "def get_top_n_bigram(x, n=25):\n",
    "    vec = CountVectorizer(ngram_range=(2, 2), stop_words='english').fit(x)\n",
    "    bag_of_words = vec.transform(x)\n",
    "    sum_words = bag_of_words.sum(axis=0) \n",
    "    words_freq = [(word, sum_words[0, idx]) for word, idx in vec.vocabulary_.items()]\n",
    "    words_freq =sorted(words_freq, key = lambda x: x[1], reverse=True)\n",
    "    return words_freq[:n]"
   ]
  },
  {
   "cell_type": "code",
   "execution_count": null,
   "metadata": {},
   "outputs": [],
   "source": [
    "common_words = get_top_n_bigram(df['review'], 25)\n",
    "common_words\n",
    "df1 = pd.DataFrame(common_words, columns = ['Bigram Text' , 'Count'])\n",
    "\n",
    "df1.set_index('Bigram Text', drop=True, inplace=True)\n",
    "df1.plot.bar()\n",
    "plt.xlabel('bigrams')\n",
    "plt.ylabel('count')\n",
    "plt.title('BIgrams Count')"
   ]
  },
  {
   "cell_type": "code",
   "execution_count": null,
   "metadata": {},
   "outputs": [],
   "source": [
    "def get_top_n_trigram(x, n=25):\n",
    "    vec = CountVectorizer(ngram_range=(3, 3), stop_words=\"english\").fit(x)\n",
    "    bag_of_words = vec.transform(x)\n",
    "    sum_words = bag_of_words.sum(axis=0) \n",
    "    words_freq = [(word, sum_words[0, idx]) for word, idx in vec.vocabulary_.items()]\n",
    "    words_freq =sorted(words_freq, key = lambda x: x[1], reverse=True)\n",
    "    return words_freq[:n]"
   ]
  },
  {
   "cell_type": "code",
   "execution_count": null,
   "metadata": {},
   "outputs": [],
   "source": [
    "common_words = get_top_n_trigram(df['review'], 25)\n",
    "common_words\n",
    "df1 = pd.DataFrame(common_words, columns = ['Trigram Text' , 'Count'])\n",
    "\n",
    "df1.set_index('Trigram Text', drop=True, inplace=True)\n",
    "df1.plot.bar()\n",
    "plt.xlabel('trigrams')\n",
    "plt.ylabel('count')\n",
    "plt.title('Trigrams Count')"
   ]
  },
  {
   "cell_type": "code",
   "execution_count": null,
   "metadata": {},
   "outputs": [],
   "source": []
  }
 ],
 "metadata": {
  "kernelspec": {
   "display_name": "Python 3 (ipykernel)",
   "language": "python",
   "name": "python3"
  },
  "language_info": {
   "codemirror_mode": {
    "name": "ipython",
    "version": 3
   },
   "file_extension": ".py",
   "mimetype": "text/x-python",
   "name": "python",
   "nbconvert_exporter": "python",
   "pygments_lexer": "ipython3",
   "version": "3.9.12"
  }
 },
 "nbformat": 4,
 "nbformat_minor": 4
}
